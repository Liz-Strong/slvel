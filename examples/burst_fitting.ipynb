{
 "cells": [
  {
   "cell_type": "code",
   "execution_count": null,
   "metadata": {},
   "outputs": [],
   "source": [
    "%reset"
   ]
  },
  {
   "cell_type": "markdown",
   "metadata": {},
   "source": [
    "# multi-gaussian fitting\n",
    "\n",
    "Liz Strong 8/28/2019"
   ]
  },
  {
   "cell_type": "code",
   "execution_count": null,
   "metadata": {},
   "outputs": [],
   "source": [
    "import sys\n",
    "sys.path.append('../slvel')\n",
    "\n",
    "import matplotlib.pyplot as plt\n",
    "import numpy as np\n",
    "from IPython.display import set_matplotlib_formats\n",
    "import pandas as pd\n",
    "import seaborn as sns\n",
    "from time import process_time\n",
    "import fitting_functions as ff"
   ]
  },
  {
   "cell_type": "markdown",
   "metadata": {},
   "source": [
    "### make pretty plots"
   ]
  },
  {
   "cell_type": "code",
   "execution_count": null,
   "metadata": {},
   "outputs": [],
   "source": [
    "%matplotlib notebook"
   ]
  },
  {
   "cell_type": "markdown",
   "metadata": {},
   "source": [
    "###  Load data"
   ]
  },
  {
   "cell_type": "code",
   "execution_count": null,
   "metadata": {},
   "outputs": [],
   "source": [
    "intensities, times, ang_vels, orbit_radii, x_offsets, y_offsets, direction, noise_mean, noise_threshold, number_segments_per_burst = np.load(r\"example_bursts.npy\",allow_pickle=True) \n",
    "print(\"number of segments:\", len(ang_vels))\n",
    "print(\"number of different segments of different lengths made for each burst:\", number_segments_per_burst)\n",
    "print(\"number of bursts:\", len(ang_vels)//number_segments_per_burst)\n",
    "print(\"angular velocities:\", np.unique(ang_vels))"
   ]
  },
  {
   "cell_type": "markdown",
   "metadata": {},
   "source": [
    "# Fit bank of Gaussians to function\n",
    "\n",
    "$g(t,\\theta)=A e^{\\frac{(t-\\mu)^2}{2\\sigma^2}}$, where $\\theta=[A,\\mu,\\sigma]$\n",
    "\n",
    "Model: $f_{\\textrm{multi gaussian}}=\\sum_{i=1}^{M}g_i(t,\\theta_i)$"
   ]
  },
  {
   "cell_type": "code",
   "execution_count": null,
   "metadata": {},
   "outputs": [],
   "source": [
    "t1_start = process_time() \n",
    "\n",
    "chars_to_pickle = {}\n",
    "#del(characterizations_for_ml)\n",
    "\n",
    "for selxn in range(2):\n",
    "    print('fitting burst #', selxn)\n",
    "\n",
    "    t, y, noise_avg, noise_thresh, ang_vel, dirctn = times[selxn], intensities[selxn], noise_mean[selxn], noise_threshold[selxn], ang_vels[selxn], direction[selxn]\n",
    "    data = ff.fitting_function(selxn, t, y, noise_avg, noise_thresh, ang_vel, orbit_radii[selxn], x_offsets[selxn], y_offsets[selxn], dirctn, max_num_gaussians=8)\n",
    "\n",
    "    try:\n",
    "        chars_to_pickle[selxn] = data\n",
    "    except:\n",
    "        pass\n",
    "\n",
    "    \n",
    "c2p = {k: v for k, v in chars_to_pickle.items() if v is not None}\n",
    "characterizations_for_ml = pd.DataFrame.from_dict(c2p,orient='index')\n",
    "t1_stop = process_time() \n",
    "print(\"Elapsed time during the whole program in seconds:\", \n",
    "                                         t1_stop-t1_start)  "
   ]
  },
  {
   "cell_type": "code",
   "execution_count": null,
   "metadata": {},
   "outputs": [],
   "source": [
    "characterizations_for_ml.rename(index=str, columns={0: \"ang_vel\"},inplace=True)\n",
    "characterizations_for_ml.rename(index=str, columns={1: \"RMSE\"},inplace=True)\n",
    "characterizations_for_ml.rename(index=str, columns={2: \"r2\"},inplace=True)\n",
    "characterizations_for_ml.rename(index=str, columns={3: \"max_error\"},inplace=True)\n",
    "characterizations_for_ml.rename(index=str, columns={4: \"max_error_normalized\"},inplace=True)\n",
    "characterizations_for_ml.rename(index=str, columns={5: \"rect_effective_time\"},inplace=True)\n",
    "characterizations_for_ml.rename(index=str, columns={6: \"duration\"},inplace=True)\n",
    "characterizations_for_ml.rename(index=str, columns={33: \"orbit_R\"},inplace=True)\n",
    "characterizations_for_ml.rename(index=str, columns={34: \"offsetx\"},inplace=True)\n",
    "characterizations_for_ml.rename(index=str, columns={35: \"offsety\"},inplace=True)\n",
    "characterizations_for_ml.rename(index=str, columns={36: \"D\"},inplace=True)\n",
    "characterizations_for_ml.rename(index=str, columns={37: \"theta\"},inplace=True)\n",
    "characterizations_for_ml.rename(index=str, columns={38: \"max_SNR\"},inplace=True)\n",
    "characterizations_for_ml.rename(index=str, columns={39: \"avg_SNR\"},inplace=True)\n",
    "characterizations_for_ml.rename(index=str, columns={40: \"clockwise\"},inplace=True)\n",
    "characterizations_for_ml.rename(index=str, columns={41: \"counterclockwise\"},inplace=True)\n",
    "characterizations_for_ml.rename(index=str, columns={42: \"num_initial_gaussians\"},inplace=True)\\\n",
    "\n",
    "pd.set_option('display.max_columns', None)\n",
    "characterizations_for_ml.tail()"
   ]
  },
  {
   "cell_type": "markdown",
   "metadata": {},
   "source": [
    "### Pickle data for ML"
   ]
  },
  {
   "cell_type": "code",
   "execution_count": null,
   "metadata": {},
   "outputs": [],
   "source": [
    "characterizations_for_ml.to_pickle('example_data.pkl')"
   ]
  },
  {
   "cell_type": "code",
   "execution_count": null,
   "metadata": {},
   "outputs": [],
   "source": []
  }
 ],
 "metadata": {
  "kernelspec": {
   "display_name": "Python 3",
   "language": "python",
   "name": "python3"
  },
  "language_info": {
   "codemirror_mode": {
    "name": "ipython",
    "version": 3
   },
   "file_extension": ".py",
   "mimetype": "text/x-python",
   "name": "python",
   "nbconvert_exporter": "python",
   "pygments_lexer": "ipython3",
   "version": "3.7.1"
  }
 },
 "nbformat": 4,
 "nbformat_minor": 4
}
